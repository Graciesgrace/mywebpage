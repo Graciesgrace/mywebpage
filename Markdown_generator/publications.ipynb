{
 "cells": [
  {
   "cell_type": "markdown",
   "id": "f26e6df8-be57-4bce-a891-572b4eeb09e0",
   "metadata": {},
   "source": [
    "# Orcid to bib"
   ]
  },
  {
   "cell_type": "code",
   "execution_count": 1,
   "id": "38211e87-2d3c-46b3-b3b7-4e2528b768ad",
   "metadata": {},
   "outputs": [],
   "source": [
    "orcid = '0000-0001-5336-3284' # Fill your orcid here"
   ]
  },
  {
   "cell_type": "code",
   "execution_count": 2,
   "id": "911050ed-2576-455e-91d4-dd1ba4e8154d",
   "metadata": {},
   "outputs": [],
   "source": [
    "import requests"
   ]
  },
  {
   "cell_type": "markdown",
   "id": "0886f50c-1d4e-43b6-9c67-126e0b42180b",
   "metadata": {},
   "source": [
    "We use the /works api to list all works related to the orcid. This gives a summary of all works, so citation information is not included. We collect the put-code of all works to retrieve the citation information later."
   ]
  },
  {
   "cell_type": "code",
   "execution_count": 78,
   "id": "8b1742b7-fae5-4108-96b7-5104029a14f2",
   "metadata": {},
   "outputs": [],
   "source": [
    "response = requests.get('https://pub.orcid.org/v3.0/{}/works'.format(orcid),\n",
    "                        headers={\"Accept\": \"application/orcid+json\" })\n",
    "record = response.json()"
   ]
  },
  {
   "cell_type": "code",
   "execution_count": 79,
   "id": "93e9d574-8bbf-4354-87db-f9beb1c54476",
   "metadata": {},
   "outputs": [],
   "source": [
    "put_codes = []\n",
    "for work in record['group']:\n",
    "    put_code = work['work-summary'][0]['put-code']\n",
    "    put_codes.append(put_code)\n",
    "put_code = put_codes[0]"
   ]
  },
  {
   "cell_type": "markdown",
   "id": "b7e88089-3246-4d9c-9d4a-838a19c15199",
   "metadata": {},
   "source": [
    "We use the /<orcid>/work/<put-code> endpoint to retrieve the citation information for each record."
   ]
  },
  {
   "cell_type": "code",
   "execution_count": 80,
   "id": "cb983fb2-5c29-47b4-b41c-b5f17fe9353c",
   "metadata": {},
   "outputs": [],
   "source": [
    "citations = []\n",
    "for put_code in put_codes:\n",
    "    response = requests.get('https://pub.orcid.org/v3.0/{}/work/{}'.format(orcid, put_code),\n",
    "                            headers={\"Accept\": \"application/orcid+json\" })\n",
    "    work = response.json()\n",
    "    if work['citation'] is not None:\n",
    "        citations.append(work['citation']['citation-value'])"
   ]
  },
  {
   "cell_type": "code",
   "execution_count": 81,
   "id": "aad71de2-fa90-4ae5-8018-2cbb8602712b",
   "metadata": {},
   "outputs": [
    {
     "name": "stdout",
     "output_type": "stream",
     "text": [
      "['@article{Tran2021,title = {Leading from Behind: Sovereign Credit Ratings during COVID-19 Pandemic},journal = {SSRN},year = {2021},author = {Tran, Y. and Vu, H. and Klusak, P. and Kramer, M. and Hoang, T.}}', '@article{Tran2021,title = {Sovereign credit ratings during the COVID-19 pandemic},journal = {International Review of Financial Analysis},year = {2021},volume = {78},author = {Tran, Y. and Vu, H. and Klusak, P. and Kraemer, M. and Hoang, T.}}', '@book{Nguyen2018,title = {Doanh nhân Việt Nam - Các yếu tố ảnh hưởng[Vietnamese entrepreneurs – Factors affecting performance]},publisher = {National University Press},year = {2018},author = {Nguyen, V. H. and Tran, Y. and Bui, T. H. A. and Tran, M. and Le, T. H. Y.}, address   = \"Hanoi\"}']\n"
     ]
    }
   ],
   "source": [
    "print(citations)"
   ]
  },
  {
   "cell_type": "code",
   "execution_count": 82,
   "id": "18d8ff1e-f4d1-4e31-8bca-030e58d00efc",
   "metadata": {},
   "outputs": [],
   "source": [
    "with open('pubs.bib', 'w', encoding='utf-8') as bibfile:\n",
    "    for citation in citations:\n",
    "        bibfile.write(citation)\n",
    "        bibfile.write('\\n')"
   ]
  },
  {
   "cell_type": "code",
   "execution_count": 83,
   "id": "d4519e25-d17d-4092-ab3a-f15d9d61883a",
   "metadata": {},
   "outputs": [
    {
     "name": "stdout",
     "output_type": "stream",
     "text": [
      "@article{Tran2021,title = {Leading from Behind: Sovereign Credit Ratings during COVID-19 Pandemic},journal = {SSRN},year = {2021},author = {Tran, Y. and Vu, H. and Klusak, P. and Kramer, M. and Hoang, T.}}\n",
      "@article{Tran2021,title = {Sovereign credit ratings during the COVID-19 pandemic},journal = {International Review of Financial Analysis},year = {2021},volume = {78},author = {Tran, Y. and Vu, H. and Klusak, P. and Kraemer, M. and Hoang, T.}}\n",
      "@book{Nguyen2018,title = {Doanh nhân Việt Nam - Các yếu tố ảnh hưởng[Vietnamese entrepreneurs – Factors affecting performance]},publisher = {National University Press},year = {2018},author = {Nguyen, V. H. and Tran, Y. and Bui, T. H. A. and Tran, M. and Le, T. H. Y.}, address   = \"Hanoi\"}\n",
      "\n"
     ]
    }
   ],
   "source": [
    "with open('pubs.bib', 'r', encoding='utf-8') as bibfile:\n",
    "    bib_content = bibfile.read()\n",
    "print(bib_content)"
   ]
  },
  {
   "cell_type": "raw",
   "id": "4fa36ed8-6077-4750-8e69-384147e026d9",
   "metadata": {},
   "source": [
    "# pip install bibtexparser"
   ]
  },
  {
   "cell_type": "code",
   "execution_count": null,
   "id": "5e87ecfa-f162-4c26-bfc0-3a545bc54ef5",
   "metadata": {},
   "outputs": [],
   "source": [
    "## Modify .bib entries"
   ]
  },
  {
   "cell_type": "code",
   "execution_count": 84,
   "id": "6a374d7e-65ec-41f4-afac-d412a12f86f1",
   "metadata": {},
   "outputs": [
    {
     "name": "stdout",
     "output_type": "stream",
     "text": [
      "Updated BibTeX file saved to: pubs_fixed.bib\n"
     ]
    }
   ],
   "source": [
    "import bibtexparser\n",
    "\n",
    "def modify_bib_keys(bibfile_path, output_path):\n",
    "    # Read and parse the BibTeX file\n",
    "    with open(bibfile_path, 'r', encoding='utf-8') as bibfile:\n",
    "        bibdata = bibtexparser.load(bibfile)\n",
    "    \n",
    "    # Create a dictionary to track the occurrence of citation keys\n",
    "    key_count = {}\n",
    "    \n",
    "    # Iterate over the entries in the parsed BibTeX data\n",
    "    for entry in bibdata.entries:\n",
    "        citation_key = entry['ID']  # The citation key (e.g., 'Tran2021')\n",
    "        \n",
    "        # If the key is already encountered, modify it\n",
    "        if citation_key in key_count:\n",
    "            key_count[citation_key] += 1\n",
    "            # Append the occurrence letter (e.g., 'Tran2021a', 'Tran2021b')\n",
    "            entry['ID'] = f\"{citation_key}{chr(97 + key_count[citation_key])}\"\n",
    "        else:\n",
    "            # First occurrence, just set the count to 0\n",
    "            key_count[citation_key] = 0\n",
    "\n",
    "    # Save the updated BibTeX data to a new file\n",
    "    with open(output_path, 'w', encoding='utf-8') as output_file:\n",
    "        bibtexparser.dump(bibdata, output_file)\n",
    "\n",
    "    print(f\"Updated BibTeX file saved to: {output_path}\")\n",
    "\n",
    "# Example usage\n",
    "modify_bib_keys('pubs.bib', 'pubs_fixed.bib')\n"
   ]
  },
  {
   "cell_type": "code",
   "execution_count": 85,
   "id": "73002e63-41e9-4582-897f-21c43ade9eee",
   "metadata": {
    "scrolled": true,
    "tags": []
   },
   "outputs": [
    {
     "name": "stdout",
     "output_type": "stream",
     "text": [
      "@article{Tran2021,title = {Leading from Behind: Sovereign Credit Ratings during COVID-19 Pandemic},journal = {SSRN},year = {2021},author = {Tran, Y. and Vu, H. and Klusak, P. and Kramer, M. and Hoang, T.}}\n",
      "@article{Tran2021,title = {Sovereign credit ratings during the COVID-19 pandemic},journal = {International Review of Financial Analysis},year = {2021},volume = {78},author = {Tran, Y. and Vu, H. and Klusak, P. and Kraemer, M. and Hoang, T.}}\n",
      "@book{Nguyen2018,title = {Doanh nhân Việt Nam - Các yếu tố ảnh hưởng[Vietnamese entrepreneurs – Factors affecting performance]},publisher = {National University Press},year = {2018},author = {Nguyen, V. H. and Tran, Y. and Bui, T. H. A. and Tran, M. and Le, T. H. Y.}, address   = \"Hanoi\"}\n",
      "\n",
      "@book{Nguyen2018,\n",
      " address = {Hanoi},\n",
      " author = {Nguyen, V. H. and Tran, Y. and Bui, T. H. A. and Tran, M. and Le, T. H. Y.},\n",
      " publisher = {National University Press},\n",
      " title = {Doanh nhân Việt Nam - Các yếu tố ảnh hưởng[Vietnamese entrepreneurs – Factors affecting performance]},\n",
      " year = {2018}\n",
      "}\n",
      "\n",
      "@article{Tran2021,\n",
      " author = {Tran, Y. and Vu, H. and Klusak, P. and Kramer, M. and Hoang, T.},\n",
      " journal = {SSRN},\n",
      " title = {Leading from Behind: Sovereign Credit Ratings during COVID-19 Pandemic},\n",
      " year = {2021}\n",
      "}\n",
      "\n",
      "@article{Tran2021b,\n",
      " author = {Tran, Y. and Vu, H. and Klusak, P. and Kraemer, M. and Hoang, T.},\n",
      " journal = {International Review of Financial Analysis},\n",
      " title = {Sovereign credit ratings during the COVID-19 pandemic},\n",
      " volume = {78},\n",
      " year = {2021}\n",
      "}\n",
      "\n"
     ]
    }
   ],
   "source": [
    "with open('pubs.bib', 'r', encoding='utf-8') as bibfile:\n",
    "    bib_content = bibfile.read()\n",
    "print(bib_content)\n",
    "with open('pubs_fixed.bib', 'r', encoding='utf-8') as bibfile:\n",
    "    bib_content = bibfile.read()\n",
    "print(bib_content)"
   ]
  },
  {
   "cell_type": "markdown",
   "id": "20805636-cf91-4cbc-8f5b-06bc799e11d6",
   "metadata": {},
   "source": [
    "# Publications from Bib"
   ]
  },
  {
   "cell_type": "markdown",
   "id": "b8a918f4-2ca6-4251-beb8-14adadd5ed21",
   "metadata": {},
   "source": [
    "Takes a set of bibtex of publications and converts them for use with academicpages.github.io. This is an interactive Jupyter notebook (see more info here).\n",
    "\n",
    "The core python code is also in pubsFromBibs.py. Run either from the markdown_generator folder after replacing updating the publist dictionary with:\n",
    "\n",
    "* bib file names\n",
    "* specific venue keys based on your bib file preferences\n",
    "* any specific pre-text for specific files\n",
    "* Collection Name (future feature)"
   ]
  },
  {
   "cell_type": "code",
   "execution_count": 27,
   "id": "1bd9a973-dbbd-495f-a53b-69f4c31c1510",
   "metadata": {},
   "outputs": [],
   "source": [
    "#pip install pybtex"
   ]
  },
  {
   "cell_type": "code",
   "execution_count": 28,
   "id": "124db92c-a00a-4a4d-8c85-71f1e310eb6a",
   "metadata": {},
   "outputs": [],
   "source": [
    "from pybtex.database.input import bibtex\n",
    "import pybtex.database.input.bibtex \n",
    "from time import strptime\n",
    "import string\n",
    "import html\n",
    "import os\n",
    "import re"
   ]
  },
  {
   "cell_type": "code",
   "execution_count": 90,
   "id": "e7540b2c-1cf8-4a09-b182-90166690c4b2",
   "metadata": {},
   "outputs": [],
   "source": [
    "#todo: incorporate different collection types rather than a catch all publications, requires other changes to template\n",
    "publist = {\n",
    "    \"journal\":{\n",
    "        \"file\": \"pubs_fixed.bib\",\n",
    "        \"venuekey\" : \"journal\",\n",
    "        \"venue-pretext\" : \"\",\n",
    "        \"collection\" : {\"name\":\"publications\",\n",
    "                        \"permalink\":\"/publication/\"}\n",
    "    }, \n",
    "    \"book\":{\n",
    "        \"file\": \"pubs_fixed.bib\",\n",
    "        \"venuekey\" : \"publisher\",\n",
    "        \"venue-pretext\" : \"\",\n",
    "        \"collection\" : {\"name\":\"publications\",\n",
    "                        \"permalink\":\"/publication/\"}\n",
    "    } \n",
    "}"
   ]
  },
  {
   "cell_type": "code",
   "execution_count": null,
   "id": "14367651-d45a-4d1d-aaae-c3c1cde0366d",
   "metadata": {},
   "outputs": [],
   "source": [
    "    \"proceeding\": {\n",
    "        \"file\" : \"pubs_fixed.bib\",\n",
    "        \"venuekey\": \"booktitle\",\n",
    "        \"venue-pretext\": \"In the proceedings of \",\n",
    "        \"collection\" : {\"name\":\"publications\",\n",
    "                        \"permalink\":\"/publication/\"}\n",
    "        \n",
    "    },"
   ]
  },
  {
   "cell_type": "code",
   "execution_count": null,
   "id": "d989466a-42ec-4afd-9246-fb8f243d7eb7",
   "metadata": {},
   "outputs": [],
   "source": [
    "# Modify publist"
   ]
  },
  {
   "cell_type": "markdown",
   "id": "cf70cd39-d984-4a8f-81a3-05fa96e3bc2d",
   "metadata": {
    "jp-MarkdownHeadingCollapsed": true,
    "tags": []
   },
   "source": [
    "## Espaping HTML special characters"
   ]
  },
  {
   "cell_type": "markdown",
   "id": "b4b8e5e1-3125-4f9f-a3ed-7a4715cd4e9d",
   "metadata": {},
   "source": [
    "YAML is very picky about how it takes a valid string, so we are replacing single and double quotes (and ampersands) with their HTML encoded equivilents. This makes them look not so readable in raw format, but they are parsed and rendered nicely.\n",
    "\n",
    "To replace:\n",
    "* The ampersand (&) has a special meaning in HTML (it starts an entity), so it needs to be escaped.\n",
    "* Double quote (\"): This is useful when dealing with attribute values in HTML.\n",
    "* Single quote ('): It’s similar to the double quote entity but used in different contexts, such as in single-quoted HTML attributes.\n",
    "\n",
    "The html_escape function takes a string of text and escapes any characters that need to be represented as HTML entities. The function does this by iterating over the string and replacing special characters with their corresponding HTML entities.\n",
    "\n",
    "Explanation of the function:\n",
    "* text: This is the input string that the function will process.\n",
    "* The function uses a generator expression inside \"\".join() to loop through each character c in the text.\n",
    "* html_escape_table.get(c, c):\n",
    "    * For each character c, it tries to lookup the character c in the html_escape_table.\n",
    "    * If the character c exists in the table, it gets replaced with the corresponding HTML entity (e.g., & becomes &amp;).\n",
    "    * If the character c does not exist in the table, it returns the character c unchanged (i.e., no escaping is applied).\n",
    "* \"\".join() combines all the characters back together into a single string."
   ]
  },
  {
   "cell_type": "code",
   "execution_count": 76,
   "id": "e62f3955-9a37-4086-9b1b-6e44995e5554",
   "metadata": {},
   "outputs": [],
   "source": [
    "# A dictionary that maps special characters to their corresponding HTML entities.\n",
    "html_escape_table = {\n",
    "    \"&\": \"&amp;\", \n",
    "    '\"': \"&quot;\", \n",
    "    \"'\": \"&apos;\" \n",
    "    }\n",
    "# A function that escapes the special characters in a string by looking them up in the dictionary and replacing them with their HTML entity equivalents.\n",
    "def html_escape(text):\n",
    "    \"\"\"Produce entities within text.\"\"\"\n",
    "    return \"\".join(html_escape_table.get(c,c) for c in text)"
   ]
  },
  {
   "cell_type": "markdown",
   "id": "e6d81565-f1b2-4f5a-9a6d-a90b82ba7eda",
   "metadata": {},
   "source": [
    "## Generating markdown"
   ]
  },
  {
   "cell_type": "code",
   "execution_count": null,
   "id": "5a8855bb-a56b-4ec0-a169-a1e78e2f2dc3",
   "metadata": {},
   "outputs": [],
   "source": [
    "import bibtexparser\n",
    "with open('pubs.bib', 'r', encoding='utf-8') as bibfile:\n",
    "    bibdata = bibtexparser.load(bibfile)\n",
    "print(bibdata)"
   ]
  },
  {
   "cell_type": "code",
   "execution_count": 92,
   "id": "0a26e9d6-3e74-43ab-8f27-53f7dfc3e4f6",
   "metadata": {},
   "outputs": [
    {
     "name": "stdout",
     "output_type": "stream",
     "text": [
      "WARNING Missing Expected Field 'journal' from entry Nguyen2018: \" Doanh nhân Việt Nam - Các yếu  ... \"\n",
      "SUCESSFULLY PARSED Tran2021: \" Leading from Behind: Sovereign Credit Ratings during COVID-1 ... \"\n",
      "SUCESSFULLY PARSED Tran2021b: \" Sovereign credit ratings during the COVID-19 pandemic  \"\n",
      "SUCESSFULLY PARSED Nguyen2018: \" Doanh nhân Việt Nam - Các yếu tố ảnh hưởng[Vietnamese entrep ... \"\n",
      "WARNING Missing Expected Field 'publisher' from entry Tran2021: \" Leading from Behind: Sovereign ... \"\n",
      "WARNING Missing Expected Field 'publisher' from entry Tran2021b: \" Sovereign credit ratings durin ... \"\n"
     ]
    }
   ],
   "source": [
    "for pubsource in publist:\n",
    "    parser = bibtex.Parser() # Instantiating a Parser Object\n",
    "    \"\"\"This line creates an instance of Parser from the bibtex module (presumably from the pybtex library, which is used for parsing and working with BibTeX files in Python).\n",
    "    A Parser is an object responsible for parsing BibTeX files and converting them into Python data structures (like dictionaries, lists, or other objects).\"\"\"\n",
    "    bibdata = parser.parse_file(publist[pubsource][\"file\"]) # Parsing the BibTeX File\n",
    "    \"\"\"This line calls the parse_file() method of the Parser object to parse the BibTeX file.\n",
    "    The argument publist[pubsource][\"file\"] refers to a file path of the BibTeX file associated with the current pubsource. It accesses the \"file\" key in the value corresponding to the current pubsource in the publist dictionary.\n",
    "    The parser.parse_file() method then reads the file at that path, processes the contents (assuming it's in valid BibTeX format), and stores the parsed data in the bibdata variable.\n",
    "    bibdata will typically be an object or data structure containing the parsed BibTeX entries (like a list of dictionaries or a more structured representation).\"\"\"\n",
    "\n",
    "    #loop through the individual references in a given bibtex file\n",
    "    for bib_id in bibdata.entries:\n",
    "        #reset default date\n",
    "        pub_year = \"1900\"\n",
    "        pub_month = \"01\"\n",
    "        pub_day = \"01\"\n",
    "        \n",
    "        b = bibdata.entries[bib_id].fields\n",
    "        \n",
    "        try:\n",
    "            pub_year = f'{b[\"year\"]}'\n",
    "\n",
    "            #todo: this hack for month and day needs some cleanup\n",
    "            if \"month\" in b.keys(): \n",
    "                if(len(b[\"month\"])<3):\n",
    "                    pub_month = \"0\"+b[\"month\"]\n",
    "                    pub_month = pub_month[-2:]\n",
    "                elif(b[\"month\"] not in range(12)):\n",
    "                    tmnth = strptime(b[\"month\"][:3],'%b').tm_mon   \n",
    "                    pub_month = \"{:02d}\".format(tmnth) \n",
    "                else:\n",
    "                    pub_month = str(b[\"month\"])\n",
    "            if \"day\" in b.keys(): \n",
    "                pub_day = str(b[\"day\"])\n",
    "\n",
    "                \n",
    "            pub_date = pub_year+\"-\"+pub_month+\"-\"+pub_day\n",
    "            \n",
    "            #strip out {} as needed (some bibtex entries that maintain formatting)\n",
    "            clean_title = b[\"title\"].replace(\"{\", \"\").replace(\"}\",\"\").replace(\"\\\\\",\"\").replace(\" \",\"-\")    \n",
    "\n",
    "            url_slug = re.sub(\"\\\\[.*\\\\]|[^a-zA-Z0-9_-]\", \"\", clean_title)\n",
    "            url_slug = url_slug.replace(\"--\",\"-\")\n",
    "\n",
    "            md_filename = (str(pub_date) + \"-\" + url_slug + \".md\").replace(\"--\",\"-\")\n",
    "            html_filename = (str(pub_date) + \"-\" + url_slug).replace(\"--\",\"-\")\n",
    "\n",
    "            #Build Citation from text\n",
    "            citation = \"\"\n",
    "\n",
    "            #citation authors - todo - add highlighting for primary author?\n",
    "            for author in bibdata.entries[bib_id].persons[\"author\"]:\n",
    "                citation = citation+\" \"+author.first_names[0]+\" \"+author.last_names[0]+\", \"\n",
    "\n",
    "            #citation title\n",
    "            citation = citation + \"\\\"\" + html_escape(b[\"title\"].replace(\"{\", \"\").replace(\"}\",\"\").replace(\"\\\\\",\"\")) + \".\\\"\"\n",
    "\n",
    "            #add venue logic depending on citation type\n",
    "            venue = publist[pubsource][\"venue-pretext\"]+b[publist[pubsource][\"venuekey\"]].replace(\"{\", \"\").replace(\"}\",\"\").replace(\"\\\\\",\"\")\n",
    "\n",
    "            citation = citation + \" \" + html_escape(venue)\n",
    "            citation = citation + \", \" + pub_year + \".\"\n",
    "\n",
    "            \n",
    "            ## YAML variables\n",
    "            md = \"---\\ntitle: \\\"\"   + html_escape(b[\"title\"].replace(\"{\", \"\").replace(\"}\",\"\").replace(\"\\\\\",\"\")) + '\"\\n'\n",
    "            \n",
    "            md += \"\"\"collection: \"\"\" +  publist[pubsource][\"collection\"][\"name\"]\n",
    "\n",
    "            md += \"\"\"\\npermalink: \"\"\" + publist[pubsource][\"collection\"][\"permalink\"]  + html_filename\n",
    "            \n",
    "            note = False\n",
    "            if \"note\" in b.keys():\n",
    "                if len(str(b[\"note\"])) > 5:\n",
    "                    md += \"\\nexcerpt: '\" + html_escape(b[\"note\"]) + \"'\"\n",
    "                    note = True\n",
    "\n",
    "            md += \"\\ndate: \" + str(pub_date) \n",
    "\n",
    "            md += \"\\nvenue: '\" + html_escape(venue) + \"'\"\n",
    "            \n",
    "            url = False\n",
    "            if \"url\" in b.keys():\n",
    "                if len(str(b[\"url\"])) > 5:\n",
    "                    md += \"\\npaperurl: '\" + b[\"url\"] + \"'\"\n",
    "                    url = True\n",
    "\n",
    "            md += \"\\ncitation: '\" + html_escape(citation) + \"'\"\n",
    "\n",
    "            md += \"\\n---\"\n",
    "\n",
    "            \n",
    "            ## Markdown description for individual page\n",
    "            if note:\n",
    "                md += \"\\n\" + html_escape(b[\"note\"]) + \"\\n\"\n",
    "\n",
    "            if url:\n",
    "                md += \"\\n[Access paper here](\" + b[\"url\"] + \"){:target=\\\"_blank\\\"}\\n\" \n",
    "            else:\n",
    "                md += \"\\nUse [Google Scholar](https://scholar.google.com/scholar?q=\"+html.escape(clean_title.replace(\"-\",\"+\"))+\"){:target=\\\"_blank\\\"} for full citation\"\n",
    "\n",
    "            md_filename = os.path.basename(md_filename)\n",
    "\n",
    "            with open(\"../_publications/\" + md_filename, 'w', encoding=\"utf-8\") as f:\n",
    "                f.write(md)\n",
    "            print(f'SUCESSFULLY PARSED {bib_id}: \\\"', b[\"title\"][:60],\"...\"*(len(b['title'])>60),\"\\\"\")\n",
    "        # field may not exist for a reference\n",
    "        except KeyError as e:\n",
    "            print(f'WARNING Missing Expected Field {e} from entry {bib_id}: \\\"', b[\"title\"][:30],\"...\"*(len(b['title'])>30),\"\\\"\")\n",
    "            continue"
   ]
  },
  {
   "cell_type": "code",
   "execution_count": null,
   "id": "a54a08e2-d201-418b-9151-7fc2fd35f10e",
   "metadata": {},
   "outputs": [],
   "source": []
  }
 ],
 "metadata": {
  "kernelspec": {
   "display_name": "Python 3 (ipykernel)",
   "language": "python",
   "name": "python3"
  },
  "language_info": {
   "codemirror_mode": {
    "name": "ipython",
    "version": 3
   },
   "file_extension": ".py",
   "mimetype": "text/x-python",
   "name": "python",
   "nbconvert_exporter": "python",
   "pygments_lexer": "ipython3",
   "version": "3.10.12"
  }
 },
 "nbformat": 4,
 "nbformat_minor": 5
}
